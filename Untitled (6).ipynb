{
 "cells": [
  {
   "cell_type": "code",
   "execution_count": 3,
   "id": "d0f56827-832a-4011-8ec8-84f87eeb39ab",
   "metadata": {},
   "outputs": [
    {
     "name": "stdout",
     "output_type": "stream",
     "text": [
      "Hello\n",
      "Hello\n",
      "Hello\n",
      "Hello\n",
      "Hello\n",
      "Hello\n"
     ]
    }
   ],
   "source": [
    "def loop_in_loop(func):\n",
    "    def wrapper():\n",
    "        for i in range(3):\n",
    "            for i in range(2):\n",
    "                result = func()\n",
    "        return result\n",
    "    return wrapper\n",
    "\n",
    "@loop_in_loop\n",
    "def print_hello():\n",
    "    print(\"Hello\")\n",
    "\n",
    "print_hello()\n"
   ]
  },
  {
   "cell_type": "code",
   "execution_count": 4,
   "id": "58cd76ce-9cb4-4b37-bd81-e9851aeb1faa",
   "metadata": {},
   "outputs": [
    {
     "name": "stdout",
     "output_type": "stream",
     "text": [
      "Entering my_function with arguments (1, 2) and keyword arguments {}\n",
      "Exiting my_function with result 3\n",
      "3\n"
     ]
    }
   ],
   "source": [
    "def debug(func):\n",
    "    def wrapper(*args, **kwargs):\n",
    "        print(f\"Entering {func.__name__} with arguments {args} and keyword arguments {kwargs}\")\n",
    "        result = func(*args, **kwargs)\n",
    "        print(f\"Exiting {func.__name__} with result {result}\")\n",
    "        return result\n",
    "    return wrapper\n",
    "\n",
    "@debug\n",
    "def my_function(a, b):\n",
    "    return a + b\n",
    "\n",
    "print(my_function(1, 2))\n",
    "\n"
   ]
  },
  {
   "cell_type": "code",
   "execution_count": 5,
   "id": "9f108304-23a1-4861-94b6-6ffd8179c5c7",
   "metadata": {},
   "outputs": [
    {
     "name": "stdout",
     "output_type": "stream",
     "text": [
      "3\n"
     ]
    }
   ],
   "source": [
    "import logging\n",
    "\n",
    "def log_function(func):\n",
    "    def wrapper(*args, **kwargs):\n",
    "        logging.basicConfig(filename=\"my_logs.log\", level=logging.INFO)\n",
    "        logging.info(f\"Entering {func.__name__} with arguments {args} and keyword arguments {kwargs}\")\n",
    "        result = func(*args, **kwargs)\n",
    "        logging.info(f\"Exiting {func.__name__} with result {result}\")\n",
    "        return result\n",
    "    return wrapper\n",
    "\n",
    "@log_function\n",
    "def my_function(a, b):\n",
    "    return a + b\n",
    "\n",
    "print(my_function(1, 2))\n"
   ]
  },
  {
   "cell_type": "code",
   "execution_count": 6,
   "id": "095ca71f-2156-43ae-a12e-b14626010239",
   "metadata": {},
   "outputs": [],
   "source": [
    "def requires_auth(func):\n",
    "    def wrapper(*args, **kwargs):\n",
    "        # Code to check if the user is authorized\n",
    "        if not authorized:\n",
    "            # Return error message or raise exception\n",
    "            return \"Unauthorized\"\n",
    "        return func(*args, **kwargs)\n",
    "    return wrapper\n",
    "\n",
    "@requires_auth\n",
    "def protected_resource():\n",
    "    # Protected resource code\n",
    "    return \"Access granted\"\n"
   ]
  },
  {
   "cell_type": "code",
   "execution_count": 7,
   "id": "44592b7e-40bb-4134-90bc-f07d7f7162e5",
   "metadata": {},
   "outputs": [
    {
     "name": "stdout",
     "output_type": "stream",
     "text": [
      "Calling function: add\n",
      "Arguments: (10, 20) {}\n",
      "Return value: 30\n"
     ]
    }
   ],
   "source": [
    "def log_function_data(func):\n",
    "    def wrapper(*args, **kwargs):\n",
    "        print(f\"Calling function: {func.__name__}\")\n",
    "        print(f\"Arguments: {args} {kwargs}\")\n",
    "        result = func(*args, **kwargs)\n",
    "        print(f\"Return value: {result}\")\n",
    "        return result\n",
    "    return wrapper\n",
    "\n",
    "@log_function_data\n",
    "def add(a, b):\n",
    "    return a + b\n",
    "\n",
    "result = add(10, 20)\n"
   ]
  },
  {
   "cell_type": "code",
   "execution_count": null,
   "id": "49d1fcc4-aff7-497d-8245-af7689fcdfb4",
   "metadata": {},
   "outputs": [],
   "source": []
  }
 ],
 "metadata": {
  "kernelspec": {
   "display_name": "Python 3 (ipykernel)",
   "language": "python",
   "name": "python3"
  },
  "language_info": {
   "codemirror_mode": {
    "name": "ipython",
    "version": 3
   },
   "file_extension": ".py",
   "mimetype": "text/x-python",
   "name": "python",
   "nbconvert_exporter": "python",
   "pygments_lexer": "ipython3",
   "version": "3.10.8"
  }
 },
 "nbformat": 4,
 "nbformat_minor": 5
}
